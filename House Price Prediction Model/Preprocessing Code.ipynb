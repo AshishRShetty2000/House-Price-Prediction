{
 "cells": [
  {
   "cell_type": "markdown",
   "id": "29ebd6cf-8f89-4455-a337-83fa3fff9ee4",
   "metadata": {},
   "source": [
    "Importing the necessary libraries for the project."
   ]
  },
  {
   "cell_type": "code",
   "execution_count": 27,
   "id": "d3a03ac0-98ab-440a-ad57-67f740006813",
   "metadata": {},
   "outputs": [],
   "source": [
    "import pandas as pd\n",
    "import numpy as np\n",
    "from sklearn.model_selection import train_test_split\n",
    "from sklearn.preprocessing import MinMaxScaler\n",
    "from sklearn.impute import SimpleImputer\n"
   ]
  },
  {
   "cell_type": "markdown",
   "id": "68841409-8a55-43f8-8ff5-c9868ac03045",
   "metadata": {},
   "source": [
    "Loading and reading the dataset."
   ]
  },
  {
   "cell_type": "code",
   "execution_count": 30,
   "id": "1ada71af-83ca-41a9-9f32-406f988a3d47",
   "metadata": {},
   "outputs": [],
   "source": [
    "train_df = pd.read_csv('train.csv')\n",
    "test_df = pd.read_csv('test.csv')\n"
   ]
  },
  {
   "cell_type": "code",
   "execution_count": 32,
   "id": "1cb36cc5-d37e-46b6-8a7b-22295012731a",
   "metadata": {},
   "outputs": [],
   "source": [
    "\n",
    "num_cols_train = train_df.select_dtypes(include=['float64', 'int64']).columns\n",
    "num_cols_train = num_cols_train.drop('SalePrice')\n",
    "num_cols_test = test_df.select_dtypes(include=['float64', 'int64']).columns"
   ]
  },
  {
   "cell_type": "code",
   "execution_count": 34,
   "id": "9b3c9524-19c9-4ed2-adeb-c3645025cf70",
   "metadata": {},
   "outputs": [],
   "source": [
    "imputer_num = SimpleImputer(strategy='median')\n",
    "train_df[num_cols_train] = imputer_num.fit_transform(train_df[num_cols_train])\n",
    "test_df[num_cols_test] = imputer_num.transform(test_df[num_cols_test])\n",
    "\n",
    "cat_cols_train = train_df.select_dtypes(include=['object']).columns\n",
    "cat_cols_test = test_df.select_dtypes(include=['object']).columns\n",
    "\n",
    "imputer_cat = SimpleImputer(strategy='most_frequent')\n",
    "train_df[cat_cols_train] = imputer_cat.fit_transform(train_df[cat_cols_train])\n",
    "test_df[cat_cols_test] = imputer_cat.transform(test_df[cat_cols_test])"
   ]
  },
  {
   "cell_type": "code",
   "execution_count": 36,
   "id": "d44b7869-40df-4a91-aa24-6f1d988ca958",
   "metadata": {},
   "outputs": [],
   "source": [
    "\n",
    "train_df['TotalArea'] = train_df['GrLivArea'] + train_df['TotalBsmtSF']\n",
    "test_df['TotalArea'] = test_df['GrLivArea'] + test_df['TotalBsmtSF']"
   ]
  },
  {
   "cell_type": "code",
   "execution_count": 38,
   "id": "db31b5e6-fe53-4643-aa6d-aebdf0a37966",
   "metadata": {},
   "outputs": [],
   "source": [
    "\n",
    "train_df['TotalPorchSF'] = train_df['OpenPorchSF'] + train_df['EnclosedPorch'] + train_df['3SsnPorch'] + train_df['ScreenPorch']\n",
    "test_df['TotalPorchSF'] = test_df['OpenPorchSF'] + test_df['EnclosedPorch'] + test_df['3SsnPorch'] + test_df['ScreenPorch']"
   ]
  },
  {
   "cell_type": "code",
   "execution_count": 40,
   "id": "79616344-4344-4450-ba50-c3143241cbf2",
   "metadata": {},
   "outputs": [],
   "source": [
    "\n",
    "train_df['GrLivArea^2'] = train_df['GrLivArea'] ** 2\n",
    "test_df['GrLivArea^2'] = test_df['GrLivArea'] ** 2\n"
   ]
  },
  {
   "cell_type": "code",
   "execution_count": 42,
   "id": "1dec82ad-0230-4950-82f2-4b556fa27448",
   "metadata": {},
   "outputs": [],
   "source": [
    "train_df['GrLivArea^3'] = train_df['GrLivArea'] ** 3\n",
    "test_df['GrLivArea^3'] = test_df['GrLivArea'] ** 3\n"
   ]
  },
  {
   "cell_type": "code",
   "execution_count": 44,
   "id": "018745db-f0a0-4eba-8763-aed248c6e085",
   "metadata": {},
   "outputs": [],
   "source": [
    "\n",
    "train_df['SalePrice'] = np.log1p(train_df['SalePrice'])  \n",
    "train_df['GrLivArea'] = np.log1p(train_df['GrLivArea'])\n",
    "test_df['GrLivArea'] = np.log1p(test_df['GrLivArea'])"
   ]
  },
  {
   "cell_type": "code",
   "execution_count": 46,
   "id": "232f2201-cd3b-453e-9288-85c554943249",
   "metadata": {},
   "outputs": [],
   "source": [
    "train_df['TotalArea'] = np.log1p(train_df['TotalArea'])\n",
    "test_df['TotalArea'] = np.log1p(test_df['TotalArea'])"
   ]
  },
  {
   "cell_type": "code",
   "execution_count": 48,
   "id": "6bb01d67-5ea9-4daa-8b1c-2f769569601a",
   "metadata": {},
   "outputs": [],
   "source": [
    "\n",
    "train_df['AgeGroup'] = pd.cut(train_df['YearBuilt'], bins=[1870, 1940, 1970, 2000, 2020], labels=['Old', 'MidOld', 'Modern', 'New'])\n",
    "test_df['AgeGroup'] = pd.cut(test_df['YearBuilt'], bins=[1870, 1940, 1970, 2000, 2020], labels=['Old', 'MidOld', 'Modern', 'New'])"
   ]
  },
  {
   "cell_type": "code",
   "execution_count": 50,
   "id": "c548873f-e6a2-4adb-81f4-f20cc7fd3740",
   "metadata": {},
   "outputs": [],
   "source": [
    "train_df['LotAreaGroup'] = pd.cut(train_df['LotArea'], bins=[0, 5000, 10000, 15000, 20000, np.inf], labels=['Very Small', 'Small', 'Medium', 'Large', 'Very Large'])\n",
    "test_df['LotAreaGroup'] = pd.cut(test_df['LotArea'], bins=[0, 5000, 10000, 15000, 20000, np.inf], labels=['Very Small', 'Small', 'Medium', 'Large', 'Very Large'])\n",
    "\n"
   ]
  },
  {
   "cell_type": "code",
   "execution_count": 52,
   "id": "f38adf35-b583-4ee0-b463-d8b48d8c3024",
   "metadata": {},
   "outputs": [],
   "source": [
    "neighborhood_means = train_df.groupby('Neighborhood')['SalePrice'].mean()\n",
    "train_df['NeighborhoodEncoded'] = train_df['Neighborhood'].map(neighborhood_means)\n",
    "test_df['NeighborhoodEncoded'] = test_df['Neighborhood'].map(neighborhood_means)"
   ]
  },
  {
   "cell_type": "code",
   "execution_count": 54,
   "id": "6c5b98e7-056f-4700-9dcf-e83bdb72a3f5",
   "metadata": {},
   "outputs": [],
   "source": [
    "train_df['SpacePerRoom'] = train_df['TotalArea'] / (train_df['TotRmsAbvGrd'] + 1)  \n",
    "test_df['SpacePerRoom'] = test_df['TotalArea'] / (test_df['TotRmsAbvGrd'] + 1)"
   ]
  },
  {
   "cell_type": "code",
   "execution_count": 56,
   "id": "133a77c6-d830-42f8-bf47-e184790e3ab6",
   "metadata": {},
   "outputs": [],
   "source": [
    "train_df['TotalBath'] = train_df['FullBath'] + 0.5 * train_df['HalfBath'] + train_df['BsmtFullBath'] + 0.5 * train_df['BsmtHalfBath']\n",
    "test_df['TotalBath'] = test_df['FullBath'] + 0.5 * test_df['HalfBath'] + test_df['BsmtFullBath'] + 0.5 * test_df['BsmtHalfBath']"
   ]
  },
  {
   "cell_type": "code",
   "execution_count": 58,
   "id": "7804c76e-5076-4131-996a-cc7e7774c623",
   "metadata": {},
   "outputs": [],
   "source": [
    "\n",
    "train_df = pd.get_dummies(train_df, drop_first=True)\n",
    "test_df = pd.get_dummies(test_df, drop_first=True)\n",
    "\n",
    "\n",
    "train_df, test_df = train_df.align(test_df, join='left', axis=1, fill_value=0)"
   ]
  },
  {
   "cell_type": "code",
   "execution_count": 60,
   "id": "d4c27de8-a32c-44ff-a019-afba79fc45b3",
   "metadata": {},
   "outputs": [],
   "source": [
    "\n",
    "scaler = MinMaxScaler()\n",
    "\n",
    "num_cols_train = train_df.select_dtypes(include=['float64', 'int64']).columns\n",
    "num_cols_train = num_cols_train.drop('SalePrice')  \n",
    "\n",
    "train_df[num_cols_train] = scaler.fit_transform(train_df[num_cols_train])\n",
    "test_df[num_cols_train] = scaler.transform(test_df[num_cols_train])"
   ]
  },
  {
   "cell_type": "code",
   "execution_count": 62,
   "id": "a9e9bea1-1bda-4c8b-9a84-ba0196062b63",
   "metadata": {},
   "outputs": [
    {
     "name": "stdout",
     "output_type": "stream",
     "text": [
      "Preprocessed datasets with complete feature engineering saved.\n"
     ]
    }
   ],
   "source": [
    "\n",
    "X = train_df.drop('SalePrice', axis=1)  \n",
    "y = train_df['SalePrice']  \n",
    "\n",
    "\n",
    "X_train, X_val, y_train, y_val = train_test_split(X, y, test_size=0.2, random_state=42)\n",
    "\n",
    "\n",
    "train_df.to_csv('preprocessed_train_complete_feature_engineering.csv', index=False)\n",
    "test_df.to_csv('preprocessed_test_complete_feature_engineering.csv', index=False)\n",
    "\n",
    "print(\"Preprocessed datasets with complete feature engineering saved.\")"
   ]
  }
 ],
 "metadata": {
  "kernelspec": {
   "display_name": "Python 3 (ipykernel)",
   "language": "python",
   "name": "python3"
  },
  "language_info": {
   "codemirror_mode": {
    "name": "ipython",
    "version": 3
   },
   "file_extension": ".py",
   "mimetype": "text/x-python",
   "name": "python",
   "nbconvert_exporter": "python",
   "pygments_lexer": "ipython3",
   "version": "3.12.2"
  }
 },
 "nbformat": 4,
 "nbformat_minor": 5
}
