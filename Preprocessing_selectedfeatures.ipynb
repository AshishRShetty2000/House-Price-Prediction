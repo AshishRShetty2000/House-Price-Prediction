{
 "cells": [
  {
   "cell_type": "code",
   "execution_count": 4,
   "id": "543e76ba-6ad7-44c8-8370-aeff854ad871",
   "metadata": {
    "jupyter": {
     "source_hidden": true
    }
   },
   "outputs": [
    {
     "name": "stdout",
     "output_type": "stream",
     "text": [
      "Final preprocessed file saved as ./final_preprocessed_house_features.csv\n"
     ]
    }
   ],
   "source": [
    "import pandas as pd\n",
    "from sklearn.preprocessing import StandardScaler, OneHotEncoder\n",
    "from sklearn.impute import SimpleImputer\n",
    "from sklearn.compose import ColumnTransformer\n",
    "from sklearn.pipeline import Pipeline\n",
    "\n",
    "# Step 1: Read the dataset\n",
    "file_path = './preprocessed_house_features.csv'  # Path to the uploaded file\n",
    "data = pd.read_csv(file_path)\n",
    "\n",
    "# Step 2: Impute missing values and encode categorical variables\n",
    "numeric_features = ['TotalSF', 'GarageInteraction', 'TotalBathrooms', 'TotalPorchArea', 'HouseAge', \n",
    "                    'RemodeledAge', 'RoomsPerSF', 'WoodDeckSF', 'OverallCond', 'BsmtUnfSF', \n",
    "                    'MasVnrArea', 'LotFrontage', 'TotRmsAbvGrd', 'GrLivArea', 'OverallQual', \n",
    "                    'LotArea', 'BsmtFinSF1']\n",
    "\n",
    "categorical_features = ['GarageFinish']\n",
    "\n",
    "# Step 3: Preprocessing pipeline for numeric and categorical features\n",
    "numeric_transformer = Pipeline(steps=[\n",
    "    ('imputer', SimpleImputer(strategy='median')),  # Fill missing values\n",
    "    ('scaler', StandardScaler())  # Scale numerical features\n",
    "])\n",
    "\n",
    "categorical_transformer = Pipeline(steps=[\n",
    "    ('imputer', SimpleImputer(strategy='most_frequent')),  # Fill missing categorical values\n",
    "    ('onehot', OneHotEncoder(drop='first'))  # One-hot encode categorical features\n",
    "])\n",
    "\n",
    "# Combine transformations\n",
    "preprocessor = ColumnTransformer(\n",
    "    transformers=[\n",
    "        ('num', numeric_transformer, numeric_features),\n",
    "        ('cat', categorical_transformer, categorical_features)\n",
    "    ])\n",
    "\n",
    "# Step 4: Prepare the input (X) and target (y)\n",
    "X = data.drop(columns=['SalePrice'])  # Features (excluding the target)\n",
    "y = data['SalePrice']  # Target variable\n",
    "\n",
    "# Apply the transformations\n",
    "X_preprocessed = preprocessor.fit_transform(X)\n",
    "\n",
    "# Step 5: Save the preprocessed dataset\n",
    "# Convert the preprocessed array to a DataFrame with appropriate column names\n",
    "X_preprocessed_df = pd.DataFrame(X_preprocessed, columns=preprocessor.get_feature_names_out())\n",
    "final_data = pd.concat([X_preprocessed_df, y.reset_index(drop=True)], axis=1)\n",
    "\n",
    "# Save the final preprocessed data to a new CSV file\n",
    "final_output_path = './final_preprocessed_house_features.csv'\n",
    "final_data.to_csv(final_output_path, index=False)\n",
    "\n",
    "print(f\"Final preprocessed file saved as {final_output_path}\")\n"
   ]
  },
  {
   "cell_type": "code",
   "execution_count": null,
   "id": "5a46bef3-4300-4088-8912-794430128072",
   "metadata": {},
   "outputs": [],
   "source": []
  }
 ],
 "metadata": {
  "kernelspec": {
   "display_name": "Python 3 (ipykernel)",
   "language": "python",
   "name": "python3"
  },
  "language_info": {
   "codemirror_mode": {
    "name": "ipython",
    "version": 3
   },
   "file_extension": ".py",
   "mimetype": "text/x-python",
   "name": "python",
   "nbconvert_exporter": "python",
   "pygments_lexer": "ipython3",
   "version": "3.12.2"
  }
 },
 "nbformat": 4,
 "nbformat_minor": 5
}
